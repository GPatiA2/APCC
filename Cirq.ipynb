{
 "cells": [
  {
   "cell_type": "markdown",
   "id": "handy-channels",
   "metadata": {},
   "source": [
    "# Práctica 2 : Teleportación Cuántica y Codificación Superdensa\n",
    "\n",
    "Guillermo García Patiño Lenza"
   ]
  },
  {
   "cell_type": "markdown",
   "id": "agreed-ghana",
   "metadata": {},
   "source": [
    "### Ejercicio 1:"
   ]
  },
  {
   "cell_type": "code",
   "execution_count": 3,
   "id": "improving-mustang",
   "metadata": {},
   "outputs": [],
   "source": [
    "import cirq as cq\n",
    "\n",
    "# el qubit de alice cuyo estado quiere enviar a bob\n",
    "q0 = cq.NamedQubit('q0')\n",
    "# qubit del par entrelazado que se queda alice\n",
    "q1 = cq.NamedQubit('q1')\n",
    "# qubit del par entrelazado que va para bob\n",
    "q2 = cq.NamedQubit('q2')\n",
    "\n"
   ]
  },
  {
   "cell_type": "code",
   "execution_count": 4,
   "id": "ordered-replication",
   "metadata": {},
   "outputs": [],
   "source": [
    "# entrelazar el par q1 y q2\n",
    "hq1 = cq.Moment([cq.H(q1)])\n",
    "entrelaz = cq.Moment([cq.CNOT(q1,q2)])\n",
    "\n"
   ]
  },
  {
   "cell_type": "code",
   "execution_count": 5,
   "id": "surrounded-lemon",
   "metadata": {},
   "outputs": [],
   "source": [
    "# codificar el estado de q0\n",
    "codif = cq.Moment([cq.CNOT(q0,q1)])\n",
    "codif2 = cq.Moment(cq.H(q0))"
   ]
  },
  {
   "cell_type": "code",
   "execution_count": 6,
   "id": "southwest-aquatic",
   "metadata": {},
   "outputs": [],
   "source": [
    "# decodificar el estado de q0\n",
    "deco1 = cq.Moment([cq.CNOT(q1,q2)])\n",
    "deco2 = cq.Moment([cq.CZ(q0,q2)])"
   ]
  },
  {
   "cell_type": "code",
   "execution_count": 12,
   "id": "modern-challenge",
   "metadata": {},
   "outputs": [],
   "source": [
    "# medir resultados\n",
    "medir = cq.Moment([cq.measure(q0),cq.measure(q1),cq.measure(q2)])"
   ]
  },
  {
   "cell_type": "code",
   "execution_count": 13,
   "id": "owned-removal",
   "metadata": {},
   "outputs": [
    {
     "name": "stdout",
     "output_type": "stream",
     "text": [
      "q0: ───────────@───H───────@───M───\n",
      "               │           │\n",
      "q1: ───H───@───X───────@───┼───M───\n",
      "           │           │   │\n",
      "q2: ───────X───────────X───@───M───\n"
     ]
    }
   ],
   "source": [
    "circuitTel = cq.Circuit((hq1,entrelaz,codif,codif2,deco1,deco2,medir))\n",
    "print(circuitTel)"
   ]
  },
  {
   "cell_type": "code",
   "execution_count": 27,
   "id": "herbal-mercy",
   "metadata": {},
   "outputs": [
    {
     "name": "stdout",
     "output_type": "stream",
     "text": [
      "measurements: q0=0 q1=0 q2=1\n",
      "output vector: |001⟩\n",
      "\n",
      "\n",
      "measurements: q0=0 q1=0 q2=1\n",
      "output vector: |001⟩\n",
      "\n",
      "\n",
      "measurements: q0=1 q1=0 q2=1\n",
      "output vector: |101⟩\n",
      "\n",
      "\n",
      "measurements: q0=1 q1=0 q2=1\n",
      "output vector: |101⟩\n",
      "\n",
      "\n",
      "measurements: q0=1 q1=1 q2=1\n",
      "output vector: |111⟩\n",
      "\n",
      "\n",
      "measurements: q0=1 q1=1 q2=1\n",
      "output vector: |111⟩\n",
      "\n",
      "\n",
      "measurements: q0=1 q1=0 q2=1\n",
      "output vector: |101⟩\n",
      "\n",
      "\n",
      "measurements: q0=0 q1=1 q2=1\n",
      "output vector: |011⟩\n",
      "\n",
      "\n",
      "measurements: q0=1 q1=0 q2=1\n",
      "output vector: |101⟩\n",
      "\n",
      "\n",
      "measurements: q0=1 q1=0 q2=1\n",
      "output vector: |101⟩\n",
      "\n",
      "\n",
      "measurements: q0=1 q1=0 q2=0\n",
      "output vector: |100⟩\n",
      "\n",
      "\n",
      "measurements: q0=1 q1=1 q2=0\n",
      "output vector: |110⟩\n",
      "\n",
      "\n",
      "measurements: q0=0 q1=1 q2=0\n",
      "output vector: |010⟩\n",
      "\n",
      "\n",
      "measurements: q0=0 q1=1 q2=0\n",
      "output vector: |010⟩\n",
      "\n",
      "\n",
      "measurements: q0=0 q1=1 q2=0\n",
      "output vector: |010⟩\n",
      "\n",
      "\n",
      "measurements: q0=0 q1=1 q2=0\n",
      "output vector: |010⟩\n",
      "\n",
      "\n",
      "measurements: q0=0 q1=0 q2=0\n",
      "output vector: |000⟩\n",
      "\n",
      "\n",
      "measurements: q0=0 q1=1 q2=0\n",
      "output vector: |010⟩\n",
      "\n",
      "\n",
      "measurements: q0=0 q1=0 q2=0\n",
      "output vector: |000⟩\n",
      "\n",
      "\n",
      "measurements: q0=1 q1=0 q2=0\n",
      "output vector: |100⟩\n",
      "\n",
      "\n"
     ]
    }
   ],
   "source": [
    "from cirq import Simulator\n",
    "\n",
    "sim = Simulator()\n",
    "\n",
    "res = [0 for i in range(10)]\n",
    "for i in range(10):\n",
    "    res[i] = sim.simulate(circuitTel,initial_state = 0b100)\n",
    "    print(res[i])\n",
    "    print('\\n')\n",
    "    \n",
    "for i in range(10):\n",
    "    res[i] = sim.simulate(circuitTel,initial_state = 0b000)\n",
    "    print(res[i])\n",
    "    print('\\n')"
   ]
  },
  {
   "cell_type": "markdown",
   "id": "automatic-experience",
   "metadata": {},
   "source": [
    "#### Comentario:\n",
    "\n",
    "Para construir el circuito que modela la teleportación cuántica de manera que solo se realicen mediciones al final, se ha cambiado el qubit de control de las puertas cX y cZ (que antes eran las mediciones del otro qubit del par entrelazado y del que se deseaba enviar) que actúan sobre el qubit objetivo q2 por los propios quibts q0 y q1 de los que se obtenía antes la medida.\n",
    "\n",
    "Tras unas cuantas simulaciones intentando transmitir un qubit en estado 0 , se comprueba que en todas se obtiene un 0 en q2 exitosamente. De manera similar, cuando se intena transmitir un 1 los resultados son los esperados.\n",
    "\n",
    "Cabe destacar que, como era de esperar, el qubit q0 no conserva el valor con el que se inicializó para ser transmitido, ya que el ser utilizado como qubit de control en una puerta controlada también provoca cambios en su estado."
   ]
  },
  {
   "cell_type": "markdown",
   "id": "surprising-hamilton",
   "metadata": {},
   "source": [
    "### Ejercicio 2:"
   ]
  },
  {
   "cell_type": "code",
   "execution_count": 28,
   "id": "sitting-azerbaijan",
   "metadata": {},
   "outputs": [],
   "source": [
    "q_0 = cq.NamedQubit('q_0')\n",
    "q_1 = cq.NamedQubit('q_1')\n",
    "\n"
   ]
  },
  {
   "cell_type": "code",
   "execution_count": 31,
   "id": "interstate-burner",
   "metadata": {},
   "outputs": [],
   "source": [
    "ent1 = cq.Moment(cq.H(q_0))\n",
    "ent2 = cq.Moment([cq.CNOT(q_0,q_1)])"
   ]
  },
  {
   "cell_type": "code",
   "execution_count": 34,
   "id": "differential-dutch",
   "metadata": {},
   "outputs": [],
   "source": [
    "circuitDens = cq.Circuit((ent1,ent2))"
   ]
  },
  {
   "cell_type": "code",
   "execution_count": 37,
   "id": "characteristic-timber",
   "metadata": {},
   "outputs": [],
   "source": [
    "def codificacionDensa(b1,b2, circ):\n",
    "    if (b1 == 0 and b2 == 1):\n",
    "        circ.append(cq.X(q_0))\n",
    "    elif (b1 == 1 and b2 == 0):\n",
    "        circ.append(cq.Z(q_1))\n",
    "    elif (b1 == 1 and b2 == 1):\n",
    "        circ.append(cq.X(q_0))\n",
    "        circ.append(cq.Z(q_1))\n",
    "    return circ"
   ]
  },
  {
   "cell_type": "code",
   "execution_count": 38,
   "id": "handled-quality",
   "metadata": {},
   "outputs": [],
   "source": [
    "circuitDens = codificacionDensa(0,1,circuitDens)"
   ]
  },
  {
   "cell_type": "code",
   "execution_count": 39,
   "id": "warming-motivation",
   "metadata": {},
   "outputs": [],
   "source": [
    "circuitDens.append(cq.CNOT(q_0,q_1))"
   ]
  },
  {
   "cell_type": "code",
   "execution_count": 40,
   "id": "first-sugar",
   "metadata": {},
   "outputs": [],
   "source": [
    "circuitDens.append(cq.H(q_0))"
   ]
  },
  {
   "cell_type": "code",
   "execution_count": 41,
   "id": "every-charleston",
   "metadata": {},
   "outputs": [],
   "source": [
    "circuitDens.append([cq.measure(q_0),cq.measure(q_1)])"
   ]
  },
  {
   "cell_type": "code",
   "execution_count": 43,
   "id": "fifty-copying",
   "metadata": {},
   "outputs": [
    {
     "name": "stdout",
     "output_type": "stream",
     "text": [
      "measurements: q_0=0 q_1=1\n",
      "output vector: |01⟩\n",
      "\n",
      "\n",
      "measurements: q_0=0 q_1=1\n",
      "output vector: |01⟩\n",
      "\n",
      "\n",
      "measurements: q_0=0 q_1=1\n",
      "output vector: |01⟩\n",
      "\n",
      "\n",
      "measurements: q_0=0 q_1=1\n",
      "output vector: |01⟩\n",
      "\n",
      "\n",
      "measurements: q_0=0 q_1=1\n",
      "output vector: |01⟩\n",
      "\n",
      "\n",
      "measurements: q_0=0 q_1=1\n",
      "output vector: |01⟩\n",
      "\n",
      "\n",
      "measurements: q_0=0 q_1=1\n",
      "output vector: |01⟩\n",
      "\n",
      "\n",
      "measurements: q_0=0 q_1=1\n",
      "output vector: |01⟩\n",
      "\n",
      "\n",
      "measurements: q_0=0 q_1=1\n",
      "output vector: |01⟩\n",
      "\n",
      "\n",
      "measurements: q_0=0 q_1=1\n",
      "output vector: |01⟩\n",
      "\n",
      "\n"
     ]
    }
   ],
   "source": [
    "from cirq import Simulator\n",
    "\n",
    "sim = Simulator()\n",
    "\n",
    "res = [0 for i in range(10)]\n",
    "for i in range(10):\n",
    "    res[i] = sim.simulate(circuitDens,initial_state = 0b00)\n",
    "    print(res[i])\n",
    "    print('\\n')\n",
    "    \n"
   ]
  }
 ],
 "metadata": {
  "kernelspec": {
   "display_name": "Python 3",
   "language": "python",
   "name": "python3"
  },
  "language_info": {
   "codemirror_mode": {
    "name": "ipython",
    "version": 3
   },
   "file_extension": ".py",
   "mimetype": "text/x-python",
   "name": "python",
   "nbconvert_exporter": "python",
   "pygments_lexer": "ipython3",
   "version": "3.8.5"
  }
 },
 "nbformat": 4,
 "nbformat_minor": 5
}
