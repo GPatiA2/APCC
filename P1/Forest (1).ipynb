{
 "cells": [
  {
   "cell_type": "markdown",
   "id": "golden-decline",
   "metadata": {},
   "source": [
    "# Practica 1: Ejercicio 1\n",
    "Guillermo García Patiño Lenza\n",
    "\n",
    "Entorno Forest"
   ]
  },
  {
   "cell_type": "code",
   "execution_count": null,
   "id": "united-match",
   "metadata": {},
   "outputs": [
    {
     "name": "stderr",
     "output_type": "stream",
     "text": [
      "WARNING - Retrying (Retry(total=2, connect=None, read=None, redirect=None, status=None)) after connection broken by 'NewConnectionError('<urllib3.connection.HTTPConnection object at 0x7f1db0085550>: Failed to establish a new connection: [Errno 111] Connection refused')': /\n",
      "WARNING - Retrying (Retry(total=1, connect=None, read=None, redirect=None, status=None)) after connection broken by 'NewConnectionError('<urllib3.connection.HTTPConnection object at 0x7f1db007c1c0>: Failed to establish a new connection: [Errno 111] Connection refused')': /\n",
      "WARNING - Retrying (Retry(total=0, connect=None, read=None, redirect=None, status=None)) after connection broken by 'NewConnectionError('<urllib3.connection.HTTPConnection object at 0x7f1db007c250>: Failed to establish a new connection: [Errno 111] Connection refused')': /\n"
     ]
    },
    {
     "name": "stdout",
     "output_type": "stream",
     "text": [
      "{0: array([0, 0, 0, 0, 0, 1, 1, 0, 1, 1])}\n"
     ]
    }
   ],
   "source": [
    "from pyquil import get_qc, Program\n",
    "from pyquil.gates import CNOT, Z\n",
    "from pyquil.api import local_forest_runtime\n",
    "\n",
    "#Definir el programa -> este hace un estado de Bell\n",
    "prog = Program(H(0), CNOT(0, 1))\n",
    "\n",
    "#este programa pone el qbit en superposicion\n",
    "prog2 = Program(H(0))\n",
    "\n",
    "#lanzar el servidor local\n",
    "with local_forest_runtime():\n",
    "    #elegir que cc quiero (2q-qvm) = 2 qubits qvm\n",
    "    qvm = get_qc('1q-qvm')\n",
    "    #lanzar el programa y medir sus resultados\n",
    "    results = qvm.run_and_measure(prog2, trials=10)\n",
    "    #devuelve una lista en la que \n",
    "    #  el n-esimo elemento es un array con los resultados del qubit n\n",
    "    #     para cada uno de los intentos\n",
    "    print(results)"
   ]
  }
 ],
 "metadata": {
  "kernelspec": {
   "display_name": "Python 3",
   "language": "python",
   "name": "python3"
  },
  "language_info": {
   "codemirror_mode": {
    "name": "ipython",
    "version": 3
   },
   "file_extension": ".py",
   "mimetype": "text/x-python",
   "name": "python",
   "nbconvert_exporter": "python",
   "pygments_lexer": "ipython3",
   "version": "3.8.5"
  }
 },
 "nbformat": 4,
 "nbformat_minor": 5
}
