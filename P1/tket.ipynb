{
 "cells": [
  {
   "cell_type": "markdown",
   "id": "weird-bridge",
   "metadata": {},
   "source": [
    "# Practica 1 : Ejercicio 1\n",
    "Guillermo García Patiño Lenza\n",
    "\n",
    "Entorno Tket"
   ]
  },
  {
   "cell_type": "code",
   "execution_count": 1,
   "id": "appreciated-venice",
   "metadata": {},
   "outputs": [
    {
     "data": {
      "text/plain": [
       "[H q[0]; Measure q[0] --> c[0]; ]"
      ]
     },
     "execution_count": 1,
     "metadata": {},
     "output_type": "execute_result"
    }
   ],
   "source": [
    "from pytket import Circuit\n",
    "c = Circuit(1,1) # define a circuit with 2 qubits and 2 bits\n",
    "c.H(0)           # add a Hadamard gate to qubit 0\n",
    "c.measure_all()  # measure qubit 0 recording the results in bit 0"
   ]
  },
  {
   "cell_type": "code",
   "execution_count": 13,
   "id": "private-financing",
   "metadata": {},
   "outputs": [
    {
     "name": "stdout",
     "output_type": "stream",
     "text": [
      "Counter({(1,): 523, (0,): 477})\n"
     ]
    }
   ],
   "source": [
    "from pytket.backends.ibm import AerBackend\n",
    "b = AerBackend()\n",
    "b.compile_circuit(c)\n",
    "handle = b.process_circuit(c, 1000)\n",
    "result = b.get_result(handle)\n",
    "counts = result.get_counts()\n",
    "print(counts)"
   ]
  },
  {
   "cell_type": "code",
   "execution_count": null,
   "id": "african-ecology",
   "metadata": {},
   "outputs": [],
   "source": []
  }
 ],
 "metadata": {
  "kernelspec": {
   "display_name": "Python 3",
   "language": "python",
   "name": "python3"
  },
  "language_info": {
   "codemirror_mode": {
    "name": "ipython",
    "version": 3
   },
   "file_extension": ".py",
   "mimetype": "text/x-python",
   "name": "python",
   "nbconvert_exporter": "python",
   "pygments_lexer": "ipython3",
   "version": "3.8.5"
  }
 },
 "nbformat": 4,
 "nbformat_minor": 5
}
