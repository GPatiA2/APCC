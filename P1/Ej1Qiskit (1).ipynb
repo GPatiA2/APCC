{
 "cells": [
  {
   "cell_type": "markdown",
   "id": "lesbian-energy",
   "metadata": {},
   "source": [
    "# Practica 1 : Ejercicio 1"
   ]
  },
  {
   "cell_type": "markdown",
   "id": "norman-israeli",
   "metadata": {},
   "source": [
    "Guillermo García Patiño Lenza\n",
    "\n",
    "Entorno qiskit"
   ]
  },
  {
   "cell_type": "code",
   "execution_count": 2,
   "id": "accessible-enough",
   "metadata": {},
   "outputs": [],
   "source": [
    "import numpy as np\n",
    "from qiskit.visualization import plot_histogram\n",
    "from qiskit import (\n",
    "    QuantumCircuit,\n",
    "    execute,\n",
    "    Aer)\n"
   ]
  },
  {
   "cell_type": "code",
   "execution_count": 1,
   "id": "raised-stranger",
   "metadata": {},
   "outputs": [
    {
     "name": "stderr",
     "output_type": "stream",
     "text": [
      "configrc.store_credentials:WARNING:2021-03-12 19:34:12,606: Credentials already present. Set overwrite=True to overwrite.\n",
      "/home/feynman/anaconda3/envs/qiskitEnv/lib/python3.8/site-packages/qiskit/providers/ibmq/ibmqfactory.py:192: UserWarning: Timestamps in IBMQ backend properties, jobs, and job results are all now in local time instead of UTC.\n",
      "  warnings.warn('Timestamps in IBMQ backend properties, jobs, and job results '\n"
     ]
    }
   ],
   "source": [
    "from qiskit import IBMQ\n",
    "from qiskit import IBMQ\n",
    "from qiskit import assemble, transpile\n",
    "from qiskit.providers.aer.noise import NoiseModel\n",
    "from qiskit.providers.aer import QasmSimulator\n",
    "IBMQ.save_account(\"\")\n",
    "provider = IBMQ.load_account()"
   ]
  },
  {
   "cell_type": "code",
   "execution_count": 3,
   "id": "corresponding-exclusion",
   "metadata": {},
   "outputs": [
    {
     "name": "stdout",
     "output_type": "stream",
     "text": [
      "\n",
      " Numero de ocurrencias para 0 y 1:  {'0': 496, '1': 504}\n"
     ]
    },
    {
     "data": {
      "text/html": [
       "<pre style=\"word-wrap: normal;white-space: pre;background: #fff0;line-height: 1.1;font-family: &quot;Courier New&quot;,Courier,monospace\">     ┌───┐┌─┐\n",
       "q_0: ┤ H ├┤M├\n",
       "     └───┘└╥┘\n",
       "c: 1/══════╩═\n",
       "           0 </pre>"
      ],
      "text/plain": [
       "     ┌───┐┌─┐\n",
       "q_0: ┤ H ├┤M├\n",
       "     └───┘└╥┘\n",
       "c: 1/══════╩═\n",
       "           0 "
      ]
     },
     "execution_count": 3,
     "metadata": {},
     "output_type": "execute_result"
    }
   ],
   "source": [
    "simulator = Aer.get_backend('qasm_simulator')\n",
    "\n",
    "#Circuito con 1 qbit y 1 registro de 1 bit\n",
    "circuit = QuantumCircuit(1,1)\n",
    "#Añadir puerta Hadamard que tiene el qbit 0 como entrada\n",
    "circuit.h(0)\n",
    "#Añadir puerta de medida de los qbits 0 sobre los bits de salida\n",
    "circuit.measure([0],[0])\n",
    "#ejecutar el circuito en el simulador\n",
    "job = execute(circuit,simulator, shots = 1000)\n",
    "#guardar el resultado\n",
    "result = job.result()\n",
    "#capturar los resultados de la salida\n",
    "counts = result.get_counts(circuit)\n",
    "print(\"\\n Numero de ocurrencias para 0 y 1: \", counts)\n",
    "circuit.draw()"
   ]
  },
  {
   "cell_type": "code",
   "execution_count": 9,
   "id": "another-belfast",
   "metadata": {},
   "outputs": [
    {
     "data": {
      "image/png": "[encoded data removed]",
      "text/plain": [
       "<Figure size 504x360 with 1 Axes>"
      ]
     },
     "execution_count": 9,
     "metadata": {},
     "output_type": "execute_result"
    }
   ],
   "source": [
    "plot_histogram(counts)"
   ]
  },
  {
   "cell_type": "markdown",
   "id": "dominant-future",
   "metadata": {},
   "source": [
    "### Comantario"
   ]
  },
  {
   "cell_type": "markdown",
   "id": "illegal-circular",
   "metadata": {},
   "source": [
    "   #### - Qiskit\n",
    "   En este entorno, los circuitos cuánticos se inicializan con QuantumCircuit(x,y) donde x es el numero de qubits que empleará el circuito, e y es el número de bits clásicos que se emplean para expresar el resultado.\n",
    "   \n",
    "   Se le añaden puertas cuánticas empleando métodos del circuito que reciben como argumentos los qubits a los que se quiere aplicar la puerta. Por ejemplo, circuito.h(0) aplicaría una puerta Hadamard al qubit 0 del circuito, y circuito.cx(0,1) aplicaría una puerta CNOT al qubit 1 , empleando el 0 como qubit de control.\n",
    "   \n",
    "   Qiskit proporciona varios simuladores diferentes (Qasm_simulator, Statevector_simulator y Unitarity_simulator) que se comentarán en un ejercicio posterior, y permite emplear un modelo de ruido real de un computador cuántico en las simulaciones.\n",
    "   \n",
    "   Empleando el Qasm_simulator, se puede especificar la cantidad de veces que se quiere repetir la simulación empleando un parámetro en la funcion execute, lo que después se ve reflejado en el resultado de la simulacion obtenido mediante el método get_count() (que se puede transformar en una gráfica empleando la función plot_histogram() )\n",
    "   \n",
    "   Además, permite obtener una representación gráfica del circuito empleando el método draw() del circuito, que puede ser útil para entender como está configurado el circuito tras aplicar una serie de puertas.\n",
    "   "
   ]
  },
  {
   "cell_type": "markdown",
   "id": "mighty-element",
   "metadata": {},
   "source": [
    "#### -Forest\n",
    "\n",
    "Para construir un circuito en Fotest hay que crear un objeto de la clase Program, especificando en su constructora las puertas cuánticas que se van a usar y sobre qué qubits están aplicadas. Por ejemplo Program(H(0)) crea un cicuito cuantico de un solo qubit al que se le aplica una puerta Hadamard.\n",
    "\n",
    "Esta manera de crear los circuitos parece simple para trabajar a una escala pequeña, pero puede ser algo incómoda a la hora de construir circuitos más grandes.\n",
    "\n",
    "Forest permite además elegir ciertas características del computador cuántico en el que se va a simular el circuito, como por ejemplo, el número de qubits o la topología del computador ( get_qc('9q-square-qvm') representa un computador cuantico cuadrado de 9 qubits ). \n",
    "\n",
    "Por otro lado, para simular el circuito hay que lanzar un servidor que toma el papel de simulador. Esto es algo incómodo, ya que si hay un error a la hora de lanzarlo y cerrarlo con 'with local_forest_runtime()', es necesario abrir un terminal aparte para lanzar el simulador.\n",
    "\n",
    "\n",
    "\n"
   ]
  },
  {
   "cell_type": "markdown",
   "id": "conventional-andrews",
   "metadata": {},
   "source": [
    "#### -Cirq\n",
    "\n",
    "En cirq los circuitos cuanticos se construyen como una sucesión de momentos, que son un conjunto de operaciones que se aplican a los qubits. Una vez construidos los momentos, se construye el circuito con cirq.Circuit((moment0, moment1,...)). También, una vez construidos los momentos, se pueden ir añadiendo al circuito uno a uno empleando el método append de los circuitos. Esto me parece bastante cómodo e intuitivo de emplear.\n",
    "\n",
    "También en cirq se pueden obtener representaciones gráficas de los circuitos llamando a print() y pasándole como argumento la variable del circuito. Además, me parece que cirq es el entorno que genera representaciones gráficas más simples y menos intuitivas a primera vista.\n",
    "\n",
    "Resulta bastante sencillo realizar una simulación del funcionamiento del circuito, aunque cirq no parece ofrecer, como si lo hacen otros entornos, una opción dentro del simulador para realizar varios shots, por lo que es necesario emplear un bucle si se quiere hacer esto."
   ]
  },
  {
   "cell_type": "markdown",
   "id": "analyzed-leader",
   "metadata": {},
   "source": [
    "#### -Tket\n",
    "\n",
    "Tket es un entorno muy parecido a Qiskit. Permite construir circuitos y añadirles puertas cuánticas de una manera muy parecida a como se hacen en Qiskit, y para realizar las simulaciones se emplea uno de los simuladores que ofrece Qiskit en Aer.\n",
    "\n",
    "Parece que no permite obtener un dibujo del circuito, como si lo hacen el resto de entornos de una manera o de otra.\n",
    "\n",
    "Aún así, Tket permite realizar ciertas optimizaciones a los circuitos, como reducir el numero de puertas manteniendo su funcionamiento (con PauliSimp()) y ejecutar los programas en los backends reales que ofrece IBM."
   ]
  },
  {
   "cell_type": "markdown",
   "id": "genuine-campaign",
   "metadata": {},
   "source": [
    "#### -ProjectQ\n",
    "\n",
    "ProjectQ es el entorno más extraño de todos en mi opinión. La forma de crear los circuitos es relativamente simple, aunque es poco intuitiva. Para hacerlo es necesario emplear un Engine que se encargará de compilar el circuito, que se compone construyendo qubits con allocate_qubit() y añadiendo puertas con el operador '|', lo que resulta bastante poco intuitivo.\n",
    "\n",
    "Por otro lado, medir el resultado del circuito se hace de forma muy cómoda simplemente haciendo print() de un qubit, pero producir una representación gráfica del circuito en ProjectQ es mucho más complicado que en cualquier otro entorno, porque exclusivamente genera código LaTeX que es necesario compilar para ver la representación del circuito."
   ]
  },
  {
   "cell_type": "markdown",
   "id": "former-southeast",
   "metadata": {},
   "source": [
    "## Ejercicio 2"
   ]
  },
  {
   "cell_type": "code",
   "execution_count": 4,
   "id": "alone-scholar",
   "metadata": {},
   "outputs": [
    {
     "data": {
      "text/html": [
       "<pre style=\"word-wrap: normal;white-space: pre;background: #fff0;line-height: 1.1;font-family: &quot;Courier New&quot;,Courier,monospace\">     ┌───┐     ┌─┐   \n",
       "q_0: ┤ H ├──■──┤M├───\n",
       "     └───┘┌─┴─┐└╥┘┌─┐\n",
       "q_1: ─────┤ X ├─╫─┤M├\n",
       "          └───┘ ║ └╥┘\n",
       "c: 2/═══════════╩══╩═\n",
       "                0  1 </pre>"
      ],
      "text/plain": [
       "     ┌───┐     ┌─┐   \n",
       "q_0: ┤ H ├──■──┤M├───\n",
       "     └───┘┌─┴─┐└╥┘┌─┐\n",
       "q_1: ─────┤ X ├─╫─┤M├\n",
       "          └───┘ ║ └╥┘\n",
       "c: 2/═══════════╩══╩═\n",
       "                0  1 "
      ]
     },
     "execution_count": 4,
     "metadata": {},
     "output_type": "execute_result"
    }
   ],
   "source": [
    "circuit2 = QuantumCircuit(2,2)\n",
    "circuit2.h(0)\n",
    "circuit2.cx(0,1)\n",
    "circuit2.measure([0,1],[0,1])\n",
    "circuit2.draw()"
   ]
  },
  {
   "cell_type": "code",
   "execution_count": 5,
   "id": "revolutionary-currency",
   "metadata": {},
   "outputs": [
    {
     "name": "stderr",
     "output_type": "stream",
     "text": [
      "ibmqfactory.load_account:WARNING:2021-03-12 19:35:04,215: Credentials are already in use. The existing account in the session will be replaced.\n"
     ]
    }
   ],
   "source": [
    "\n",
    "\n",
    "provider = IBMQ.load_account()\n",
    "\n",
    "backend = provider.get_backend('ibmq_lima')\n",
    "noise_model = NoiseModel.from_backend(backend)\n",
    "\n",
    "\n",
    "coupling_map = backend.configuration().coupling_map\n",
    "basis_gates = noise_model.basis_gates\n",
    "\n",
    "sim2 = Aer.get_backend('qasm_simulator')\n",
    "sim3 = Aer.get_backend('statevector_simulator')\n",
    "sim4 = Aer.get_backend('unitary_simulator')\n"
   ]
  },
  {
   "cell_type": "code",
   "execution_count": 6,
   "id": "dying-monitor",
   "metadata": {},
   "outputs": [
    {
     "name": "stdout",
     "output_type": "stream",
     "text": [
      "{'00': 503, '01': 30, '10': 67, '11': 424}\n"
     ]
    },
    {
     "data": {
      "image/png": "[encoded data removed]",
      "text/plain": [
       "<Figure size 504x360 with 1 Axes>"
      ]
     },
     "execution_count": 6,
     "metadata": {},
     "output_type": "execute_result"
    }
   ],
   "source": [
    "\n",
    "res2 = execute(circuit2, sim2,coupling_map = coupling_map, basis_gates = basis_gates, noise_model = noise_model).result()\n",
    "counts2 = res2.get_counts()\n",
    "print(counts2)\n",
    "plot_histogram(counts2)"
   ]
  },
  {
   "cell_type": "code",
   "execution_count": 7,
   "id": "previous-metadata",
   "metadata": {},
   "outputs": [
    {
     "name": "stdout",
     "output_type": "stream",
     "text": [
      "{'00': 1}\n"
     ]
    },
    {
     "data": {
      "image/png": "[encoded data removed]",
      "text/plain": [
       "<Figure size 504x360 with 1 Axes>"
      ]
     },
     "execution_count": 7,
     "metadata": {},
     "output_type": "execute_result"
    }
   ],
   "source": [
    "res3 = execute(circuit2, sim3,coupling_map = coupling_map, basis_gates = basis_gates).result()\n",
    "counts3 = res3.get_counts()\n",
    "print(counts3)\n",
    "plot_histogram(counts3)"
   ]
  },
  {
   "cell_type": "code",
   "execution_count": 8,
   "id": "stone-senate",
   "metadata": {},
   "outputs": [
    {
     "name": "stdout",
     "output_type": "stream",
     "text": [
      "{'00': 1}\n"
     ]
    },
    {
     "data": {
      "image/png": "[encoded data removed]",
      "text/plain": [
       "<Figure size 504x360 with 1 Axes>"
      ]
     },
     "execution_count": 8,
     "metadata": {},
     "output_type": "execute_result"
    }
   ],
   "source": [
    "circuit3 = QuantumCircuit(2,2)\n",
    "circuit3.h(0)\n",
    "circuit3.cx(0,1)\n",
    "\n",
    "\n",
    "res4 = execute(circuit3, sim4,coupling_map = coupling_map, basis_gates = basis_gates).result()\n",
    "counts4 = res4.get_counts()\n",
    "print(counts4)\n",
    "plot_histogram(counts4)\n"
   ]
  },
  {
   "cell_type": "markdown",
   "id": "refined-career",
   "metadata": {},
   "source": [
    "### Comentario:\n",
    "\n",
    "Los tres simuladores disponibles en Qiskit Aer son  el QasmSimulator, el StatevectorSimulator, UnitarySimulator.\n",
    "El primero, QasmSimulator, permite realizar varias simulaciones (shots) ideales o empleando un modelo de ruido y devuelve las probabilidades de cada uno de los posibles resultados.\n",
    "El segundo, StatevectorSimulator, solo permite realizar un solo shot, y devuelve el estado de los qubits en un vector.\n",
    "El tercero, UnitaritySimulator, también permite solo un shot de una simulación ideal y devuelve una matriz que representa las transformaciones del circuito sobre los qubits"
   ]
  },
  {
   "cell_type": "markdown",
   "id": "needed-salad",
   "metadata": {},
   "source": [
    "## Ejercicio 3: "
   ]
  },
  {
   "cell_type": "code",
   "execution_count": 6,
   "id": "alleged-capability",
   "metadata": {},
   "outputs": [
    {
     "name": "stdout",
     "output_type": "stream",
     "text": [
      "{'000': 491, '001': 9, '010': 5, '011': 19, '100': 8, '101': 12, '110': 14, '111': 466}\n"
     ]
    },
    {
     "data": {
      "image/png": "[encoded data removed]",
      "text/plain": [
       "<Figure size 504x360 with 1 Axes>"
      ]
     },
     "execution_count": 6,
     "metadata": {},
     "output_type": "execute_result"
    }
   ],
   "source": [
    "circuitoGHZ = QuantumCircuit(3,3)\n",
    "#puerta Hadamard al qubit 0\n",
    "circuitoGHZ.h(0)\n",
    "# 1º es qubit de control y 2º qubit es objetivo\n",
    "circuitoGHZ.cx(0,1)\n",
    "# otra puerta CNOT con el qubit 1 de control y el 2 de objetivo\n",
    "circuitoGHZ.cx(1,2)\n",
    "circuitoGHZ.measure([0,1,2],[0,1,2])\n",
    "\n",
    "resej3 = execute(circuitoGHZ, sim2,coupling_map = coupling_map, basis_gates = basis_gates, noise_model = noise_model).result()\n",
    "countsej3 = resej3.get_counts()\n",
    "print(countsej3)\n",
    "plot_histogram(countsej3)\n"
   ]
  },
  {
   "cell_type": "code",
   "execution_count": 8,
   "id": "hawaiian-gravity",
   "metadata": {},
   "outputs": [
    {
     "name": "stderr",
     "output_type": "stream",
     "text": [
      "/home/feynman/anaconda3/envs/qiskitEnv/lib/python3.8/site-packages/qiskit/providers/ibmq/ibmqfactory.py:192: UserWarning: Timestamps in IBMQ backend properties, jobs, and job results are all now in local time instead of UTC.\n",
      "  warnings.warn('Timestamps in IBMQ backend properties, jobs, and job results '\n"
     ]
    },
    {
     "data": {
      "text/plain": [
       "[<IBMQSimulator('ibmq_qasm_simulator') from IBMQ(hub='ibm-q', group='open', project='main')>,\n",
       " <IBMQBackend('ibmqx2') from IBMQ(hub='ibm-q', group='open', project='main')>,\n",
       " <IBMQBackend('ibmq_16_melbourne') from IBMQ(hub='ibm-q', group='open', project='main')>,\n",
       " <IBMQBackend('ibmq_armonk') from IBMQ(hub='ibm-q', group='open', project='main')>,\n",
       " <IBMQBackend('ibmq_athens') from IBMQ(hub='ibm-q', group='open', project='main')>,\n",
       " <IBMQBackend('ibmq_santiago') from IBMQ(hub='ibm-q', group='open', project='main')>,\n",
       " <IBMQBackend('ibmq_lima') from IBMQ(hub='ibm-q', group='open', project='main')>,\n",
       " <IBMQBackend('ibmq_belem') from IBMQ(hub='ibm-q', group='open', project='main')>,\n",
       " <IBMQBackend('ibmq_quito') from IBMQ(hub='ibm-q', group='open', project='main')>,\n",
       " <IBMQSimulator('simulator_statevector') from IBMQ(hub='ibm-q', group='open', project='main')>,\n",
       " <IBMQSimulator('simulator_mps') from IBMQ(hub='ibm-q', group='open', project='main')>,\n",
       " <IBMQSimulator('simulator_extended_stabilizer') from IBMQ(hub='ibm-q', group='open', project='main')>,\n",
       " <IBMQSimulator('simulator_stabilizer') from IBMQ(hub='ibm-q', group='open', project='main')>]"
      ]
     },
     "execution_count": 8,
     "metadata": {},
     "output_type": "execute_result"
    }
   ],
   "source": [
    "provider = IBMQ.load_account()\n",
    "provider.backends()"
   ]
  },
  {
   "cell_type": "markdown",
   "id": "shaped-million",
   "metadata": {},
   "source": [
    "#### Ejecución sobre ibmq_athens"
   ]
  },
  {
   "cell_type": "code",
   "execution_count": 20,
   "id": "affecting-casino",
   "metadata": {},
   "outputs": [],
   "source": [
    "from qiskit import IBMQ\n",
    "from qiskit import assemble, transpile\n",
    "\n",
    "backend = provider.backends.ibmq_athens\n",
    "qobj = assemble(transpile(circuitoGHZ, backend = backend), backend = backend)\n",
    "job = backend.run(qobj)\n",
    "retrieved_job = backend.retrieve_job(job.job_id())"
   ]
  },
  {
   "cell_type": "code",
   "execution_count": 21,
   "id": "general-battlefield",
   "metadata": {},
   "outputs": [
    {
     "name": "stdout",
     "output_type": "stream",
     "text": [
      "{'000': 459, '001': 7, '010': 3, '011': 25, '100': 8, '101': 8, '110': 11, '111': 503}\n"
     ]
    },
    {
     "data": {
      "image/png": "[encoded data removed]",
      "text/plain": [
       "<Figure size 504x360 with 1 Axes>"
      ]
     },
     "execution_count": 21,
     "metadata": {},
     "output_type": "execute_result"
    }
   ],
   "source": [
    "resultRealJob = retrieved_job.result()\n",
    "countsReal = resultRealJob.get_counts()\n",
    "print(countsReal)\n",
    "plot_histogram(countsReal)"
   ]
  },
  {
   "cell_type": "markdown",
   "id": "theoretical-endorsement",
   "metadata": {},
   "source": [
    "### Comentario\n",
    "\n",
    "Como se espera, la ejecución en el backend real de IBM produce resultados diferentes a los que produce la simulación.\n",
    "\n",
    "Los resultados ofrecidos por la simulación dan unas probabilidades mucho más parecidas a las que teorícamente deberían obtenerse al medir tres qubits en el estado GHZ (000 y 111 con igual probabilidad). No obstante, tanto en la simulación como en la ejecución real no se obtienen las anteriores probabilidaes, sino que el resto de estados aparecen con una probabilidad muy pequeña.\n",
    "\n",
    "La diferencia entre la simulación del circuito y la ejecución en el backend real de IBM es que la probabilidad de los estados que no corresponden al resultado teórico es mayor en la ejecución en el backend que en la simulación, y en que las probabilidades de los estados 000 y 111 (que son los que teoricamente son correctos) difieren más con las que se obtienen teóricamente en la ejecución en el backend real que en la simulación.\n",
    "\n",
    "Esta diferencia puede estar producida porque el computador cuántico donde se ha ejecutado el programa puede necesitar calibrarse, o a que el ruido y el retardo de las puertas cuánticas del computador real es mayor que el del modelo de ruido empleado en la simulación"
   ]
  },
  {
   "cell_type": "markdown",
   "id": "assumed-monday",
   "metadata": {},
   "source": [
    "## Ejercicio 4"
   ]
  },
  {
   "cell_type": "code",
   "execution_count": 11,
   "id": "decimal-textbook",
   "metadata": {},
   "outputs": [
    {
     "data": {
      "text/plain": [
       "[<IBMQSimulator('ibmq_qasm_simulator') from IBMQ(hub='ibm-q', group='open', project='main')>,\n",
       " <IBMQBackend('ibmqx2') from IBMQ(hub='ibm-q', group='open', project='main')>,\n",
       " <IBMQBackend('ibmq_16_melbourne') from IBMQ(hub='ibm-q', group='open', project='main')>,\n",
       " <IBMQBackend('ibmq_armonk') from IBMQ(hub='ibm-q', group='open', project='main')>,\n",
       " <IBMQBackend('ibmq_athens') from IBMQ(hub='ibm-q', group='open', project='main')>,\n",
       " <IBMQBackend('ibmq_santiago') from IBMQ(hub='ibm-q', group='open', project='main')>,\n",
       " <IBMQBackend('ibmq_lima') from IBMQ(hub='ibm-q', group='open', project='main')>,\n",
       " <IBMQBackend('ibmq_belem') from IBMQ(hub='ibm-q', group='open', project='main')>,\n",
       " <IBMQBackend('ibmq_quito') from IBMQ(hub='ibm-q', group='open', project='main')>,\n",
       " <IBMQSimulator('simulator_statevector') from IBMQ(hub='ibm-q', group='open', project='main')>,\n",
       " <IBMQSimulator('simulator_mps') from IBMQ(hub='ibm-q', group='open', project='main')>,\n",
       " <IBMQSimulator('simulator_extended_stabilizer') from IBMQ(hub='ibm-q', group='open', project='main')>,\n",
       " <IBMQSimulator('simulator_stabilizer') from IBMQ(hub='ibm-q', group='open', project='main')>]"
      ]
     },
     "execution_count": 11,
     "metadata": {},
     "output_type": "execute_result"
    }
   ],
   "source": [
    "\n",
    "provider.backends()"
   ]
  },
  {
   "cell_type": "markdown",
   "id": "internal-oxide",
   "metadata": {},
   "source": [
    "#### Ejecucion sobre ibmq_santiago"
   ]
  },
  {
   "cell_type": "code",
   "execution_count": 15,
   "id": "sized-wallet",
   "metadata": {},
   "outputs": [
    {
     "name": "stdout",
     "output_type": "stream",
     "text": [
      "{'000': 567, '001': 14, '010': 8, '011': 20, '100': 7, '101': 12, '110': 32, '111': 364}\n"
     ]
    },
    {
     "data": {
      "image/png": "[encoded data removed]",
      "text/plain": [
       "<Figure size 504x360 with 1 Axes>"
      ]
     },
     "execution_count": 15,
     "metadata": {},
     "output_type": "execute_result"
    }
   ],
   "source": [
    "backend = provider.backends.ibmq_santiago\n",
    "qobj = assemble(transpile(circuitoGHZ, backend = backend), backend = backend)\n",
    "job = backend.run(qobj)\n",
    "retrieved_job = backend.retrieve_job(job.job_id())\n",
    "\n",
    "resultado_s = retrieved_job.result()\n",
    "counts_s = resultado_s.get_counts()\n",
    "print(counts_s)\n",
    "plot_histogram(counts_s)"
   ]
  },
  {
   "cell_type": "code",
   "execution_count": 8,
   "id": "lightweight-glenn",
   "metadata": {},
   "outputs": [
    {
     "name": "stdout",
     "output_type": "stream",
     "text": [
      "{'000': 478, '001': 17, '010': 10, '011': 36, '100': 20, '101': 15, '110': 43, '111': 405}\n"
     ]
    },
    {
     "data": {
      "image/png": "[encoded data removed]",
      "text/plain": [
       "<Figure size 504x360 with 1 Axes>"
      ]
     },
     "execution_count": 8,
     "metadata": {},
     "output_type": "execute_result"
    }
   ],
   "source": [
    "backend = provider.backends.ibmq_quito\n",
    "qobj = assemble(transpile(circuitoGHZ, backend = backend), backend = backend)\n",
    "job = backend.run(qobj)\n",
    "retrieved_job = backend.retrieve_job(job.job_id())\n",
    "\n",
    "resultado_q = retrieved_job.result()\n",
    "counts_q = resultado_q.get_counts()\n",
    "print(counts_q)\n",
    "plot_histogram(counts_q)"
   ]
  },
  {
   "cell_type": "markdown",
   "id": "earlier-costs",
   "metadata": {},
   "source": [
    "#### Comentario:\n",
    "\n",
    "En este apartado se ha ejecutado el circuito que pone 3 qubits en estado GHZ en 3 backends diferentes (ibmq_athens, ibmq_quito y ibmq_santiago), y se han graficado los resultados. Estos tres computadores tienen todos 5 qubits y un volumen cuántico de 32 en el caso de santiago y athens (que además tienen una topología lineal) , y 16 en el caso de quito (cuyos qubits están colocados en forma de T).  \n",
    "\n",
    "Al observar los resultados, parece que la topología del computador ibmq_quito es peor para este problema, pues aunque produce probabilidades notablemente más altas para los estados que son correctos teóricamente que para el resto de estados, las probabilidades del estado 111 se alejan bastante de las que se deberían obtener. Por otro lado, este es el computador que produce unas probabilidades más altas para los estados incorrectos.\n",
    "\n",
    "En el caso de ibmq_athens y ibmq_santiago, aún teniendo el mismo volumen cuántico y la misma topología, el ibmq_santiago produjo unos resultados visiblemente peores que los del ibmq_athens. Esto probablemente se deba a que, en el momento de la ejecución, el ibmq_santiago se encontrara en peores condiciones que el ibmq_athens, y necesitara ser calibrado\n"
   ]
  }
 ],
 "metadata": {
  "kernelspec": {
   "display_name": "Python 3",
   "language": "python",
   "name": "python3"
  },
  "language_info": {
   "codemirror_mode": {
    "name": "ipython",
    "version": 3
   },
   "file_extension": ".py",
   "mimetype": "text/x-python",
   "name": "python",
   "nbconvert_exporter": "python",
   "pygments_lexer": "ipython3",
   "version": "3.8.5"
  }
 },
 "nbformat": 4,
 "nbformat_minor": 5
}
