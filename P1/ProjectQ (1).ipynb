{
 "cells": [
  {
   "cell_type": "markdown",
   "id": "altered-minnesota",
   "metadata": {},
   "source": [
    "# Practica 1 : Ejercicio 1\n",
    "Guillermo García Patiño Lenza\n",
    "\n",
    "Entorno ProjectQ"
   ]
  },
  {
   "cell_type": "code",
   "execution_count": 1,
   "id": "federal-internet",
   "metadata": {},
   "outputs": [],
   "source": [
    "from projectq.ops import H, Measure\n",
    "from projectq import MainEngine\n",
    "from projectq.backends import CircuitDrawer"
   ]
  },
  {
   "cell_type": "code",
   "execution_count": 2,
   "id": "modular-witch",
   "metadata": {},
   "outputs": [
    {
     "name": "stdout",
     "output_type": "stream",
     "text": [
      "He medido 0\n",
      "\\documentclass{standalone}\n",
      "\\usepackage[margin=1in]{geometry}\n",
      "\\usepackage[hang,small,bf]{caption}\n",
      "\\usepackage{tikz}\n",
      "\\usepackage{braket}\n",
      "\\usetikzlibrary{backgrounds,shadows.blur,fit,decorations.pathreplacing,shapes}\n",
      "\n",
      "\\begin{document}\n",
      "\\begin{tikzpicture}[scale=0.8, transform shape]\n",
      "\n",
      "\\tikzstyle{basicshadow}=[blur shadow={shadow blur steps=8, shadow xshift=0.7pt, shadow yshift=-0.7pt, shadow scale=1.02}]\\tikzstyle{basic}=[draw,fill=white,basicshadow]\n",
      "\\tikzstyle{operator}=[basic,minimum size=1.5em]\n",
      "\\tikzstyle{phase}=[fill=black,shape=circle,minimum size=0.1cm,inner sep=0pt,outer sep=0pt,draw=black]\n",
      "\\tikzstyle{none}=[inner sep=0pt,outer sep=-.5pt,minimum height=0.5cm+1pt]\n",
      "\\tikzstyle{measure}=[operator,inner sep=0pt,minimum height=0.5cm, minimum width=0.75cm]\n",
      "\\tikzstyle{xstyle}=[circle,basic,minimum height=0.35cm,minimum width=0.35cm,inner sep=-1pt,very thin]\n",
      "\\tikzset{\n",
      "shadowed/.style={preaction={transform canvas={shift={(0.5pt,-0.5pt)}}, draw=gray, opacity=0.4}},\n",
      "}\n",
      "\\tikzstyle{swapstyle}=[inner sep=-1pt, outer sep=-1pt, minimum width=0pt]\n",
      "\\tikzstyle{edgestyle}=[very thin]\n",
      "\n",
      "\\node[none] (line0_gate0) at (0.1,-0) {$\\Ket{0}$};\n",
      "\\node[none] (line0_gate1) at (0.5,-0) {};\n",
      "\\node[none,minimum height=0.5cm,outer sep=0] (line0_gate2) at (0.75,-0) {};\n",
      "\\node[none] (line0_gate3) at (1.0,-0) {};\n",
      "\\draw[operator,edgestyle,outer sep=0.5cm] ([yshift=0.25cm]line0_gate1) rectangle ([yshift=-0.25cm]line0_gate3) node[pos=.5] {H};\n",
      "\\draw (line0_gate0) edge[edgestyle] (line0_gate1);\n",
      "\\node[measure,edgestyle] (line0_gate4) at (1.5,-0) {};\n",
      "\\draw[edgestyle] ([yshift=-0.18cm,xshift=0.07500000000000001cm]line0_gate4.west) to [out=60,in=180] ([yshift=0.035cm]line0_gate4.center) to [out=0, in=120] ([yshift=-0.18cm,xshift=-0.07500000000000001cm]line0_gate4.east);\n",
      "\\draw[edgestyle] ([yshift=-0.18cm]line0_gate4.center) to ([yshift=-0.07500000000000001cm,xshift=-0.18cm]line0_gate4.north east);\n",
      "\\draw (line0_gate3) edge[edgestyle] (line0_gate4);\n",
      "\n",
      "\\end{tikzpicture}\n",
      "\\end{document}\n"
     ]
    }
   ],
   "source": [
    "# crear circuito vacio\n",
    "drawing_engine = CircuitDrawer()\n",
    "eng = MainEngine(drawing_engine)\n",
    "\n",
    "# crear 1 qubit\n",
    "q1 = eng.allocate_qubit()\n",
    "\n",
    "# poner el qubit en superposicion\n",
    "H | q1\n",
    "\n",
    "# medir el qubit\n",
    "Measure | q1\n",
    "\n",
    "#escribir el resultado\n",
    "print(\"He medido {}\".format(int(q1)))\n",
    "\n",
    "#generar codigo LaTex para el dibujo del circuito\n",
    "print(drawing_engine.get_latex())"
   ]
  },
  {
   "cell_type": "code",
   "execution_count": null,
   "id": "insured-potter",
   "metadata": {},
   "outputs": [],
   "source": []
  }
 ],
 "metadata": {
  "kernelspec": {
   "display_name": "Python 3",
   "language": "python",
   "name": "python3"
  },
  "language_info": {
   "codemirror_mode": {
    "name": "ipython",
    "version": 3
   },
   "file_extension": ".py",
   "mimetype": "text/x-python",
   "name": "python",
   "nbconvert_exporter": "python",
   "pygments_lexer": "ipython3",
   "version": "3.8.5"
  }
 },
 "nbformat": 4,
 "nbformat_minor": 5
}
