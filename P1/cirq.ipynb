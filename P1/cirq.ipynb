{
 "cells": [
  {
   "cell_type": "markdown",
   "id": "forward-diabetes",
   "metadata": {},
   "source": [
    "# Practica 1: Ejercicio 1"
   ]
  },
  {
   "cell_type": "markdown",
   "id": "hawaiian-aquatic",
   "metadata": {},
   "source": [
    "Guillermo García Patiño Lenza\n",
    "\n",
    "Entorno Cirq"
   ]
  },
  {
   "cell_type": "code",
   "execution_count": 3,
   "id": "plastic-elevation",
   "metadata": {},
   "outputs": [],
   "source": [
    "import numpy as np"
   ]
  },
  {
   "cell_type": "code",
   "execution_count": 2,
   "id": "foreign-november",
   "metadata": {},
   "outputs": [],
   "source": [
    "import cirq"
   ]
  },
  {
   "cell_type": "code",
   "execution_count": 4,
   "id": "acting-colony",
   "metadata": {},
   "outputs": [
    {
     "name": "stdout",
     "output_type": "stream",
     "text": [
      "1: ───H───M───\n"
     ]
    }
   ],
   "source": [
    "#construir el fichero por momentos -> \n",
    "#      (operaciones que se ejecutan a la vez?)\n",
    "qbit1 = cirq.LineQubit(1)\n",
    "moment0 = cirq.Moment(cirq.H(qbit1))\n",
    "moment1 = cirq.Moment(cirq.measure(qbit1))\n",
    "circuit = cirq.Circuit((moment0, moment1))\n",
    "\n",
    "print(circuit)\n",
    "\n",
    "#otra forma de construir el circuito con append\n",
    "qbit2 = cirq.LineQubit(1)\n",
    "circuit2 = cirq.Circuit()\n",
    "circuit2.append(cirq.H(qbit2))\n",
    "circuit2.append(cirq.measure(qbit2))\n"
   ]
  },
  {
   "cell_type": "code",
   "execution_count": 21,
   "id": "patent-closer",
   "metadata": {},
   "outputs": [
    {
     "name": "stdout",
     "output_type": "stream",
     "text": [
      "1=1\n"
     ]
    }
   ],
   "source": [
    "from cirq import Simulator\n",
    "simulator = Simulator()\n",
    "res = simulator.run(circuit)\n",
    "\n",
    "print(res)"
   ]
  }
 ],
 "metadata": {
  "kernelspec": {
   "display_name": "Python 3",
   "language": "python",
   "name": "python3"
  },
  "language_info": {
   "codemirror_mode": {
    "name": "ipython",
    "version": 3
   },
   "file_extension": ".py",
   "mimetype": "text/x-python",
   "name": "python",
   "nbconvert_exporter": "python",
   "pygments_lexer": "ipython3",
   "version": "3.8.5"
  }
 },
 "nbformat": 4,
 "nbformat_minor": 5
}
