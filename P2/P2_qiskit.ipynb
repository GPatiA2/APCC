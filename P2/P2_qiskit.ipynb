{
 "cells": [
  {
   "cell_type": "markdown",
   "id": "metropolitan-effect",
   "metadata": {},
   "source": [
    "# Practica 2: Teleportación Cuántica y Codificación Superdensa\n",
    "\n",
    "Guillermo García Patiño Lenza\n",
    "\n",
    "### Ejercicio 3:\n",
    "\n",
    "#### Teleportación Cuántica:"
   ]
  },
  {
   "cell_type": "code",
   "execution_count": 2,
   "id": "timely-colony",
   "metadata": {},
   "outputs": [],
   "source": [
    "import numpy as np\n",
    "from qiskit.visualization import plot_histogram\n",
    "from qiskit import (\n",
    "    QuantumCircuit,\n",
    "    execute,\n",
    "    Aer)\n",
    "from qiskit import IBMQ\n",
    "from qiskit import IBMQ\n",
    "from qiskit import assemble, transpile\n",
    "from qiskit.providers.aer.noise import NoiseModel\n",
    "from qiskit.providers.aer import QasmSimulator"
   ]
  },
  {
   "cell_type": "code",
   "execution_count": 6,
   "id": "extensive-interpretation",
   "metadata": {},
   "outputs": [],
   "source": [
    "def creaCircuitoTelep():\n",
    "    circuit = QuantumCircuit(3,3)\n",
    "    \n",
    "    #entrelazar q1 y q2\n",
    "    circuit.h(1)\n",
    "    circuit.cx(1,2)\n",
    "    \n",
    "    #codificar el estado de psi \n",
    "    circuit.cx(0,1)\n",
    "    circuit.h(0)\n",
    "    \n",
    "    #decodificar psi\n",
    "    circuit.cx(1,2)\n",
    "    circuit.cz(0,2)\n",
    "    \n",
    "    #medir\n",
    "    circuit.measure([0,1,2],[0,1,2])\n",
    "    \n",
    "    return circuit"
   ]
  },
  {
   "cell_type": "code",
   "execution_count": 7,
   "id": "minute-minority",
   "metadata": {},
   "outputs": [
    {
     "data": {
      "text/html": [
       "<pre style=\"word-wrap: normal;white-space: pre;background: #fff0;line-height: 1.1;font-family: &quot;Courier New&quot;,Courier,monospace\">                    ┌───┐      ┌─┐   \n",
       "q_0: ────────────■──┤ H ├─■────┤M├───\n",
       "     ┌───┐     ┌─┴─┐└───┘ │ ┌─┐└╥┘   \n",
       "q_1: ┤ H ├──■──┤ X ├──■───┼─┤M├─╫────\n",
       "     └───┘┌─┴─┐└───┘┌─┴─┐ │ └╥┘ ║ ┌─┐\n",
       "q_2: ─────┤ X ├─────┤ X ├─■──╫──╫─┤M├\n",
       "          └───┘     └───┘    ║  ║ └╥┘\n",
       "c: 3/════════════════════════╩══╩══╩═\n",
       "                             1  0  2 </pre>"
      ],
      "text/plain": [
       "                    ┌───┐      ┌─┐   \n",
       "q_0: ────────────■──┤ H ├─■────┤M├───\n",
       "     ┌───┐     ┌─┴─┐└───┘ │ ┌─┐└╥┘   \n",
       "q_1: ┤ H ├──■──┤ X ├──■───┼─┤M├─╫────\n",
       "     └───┘┌─┴─┐└───┘┌─┴─┐ │ └╥┘ ║ ┌─┐\n",
       "q_2: ─────┤ X ├─────┤ X ├─■──╫──╫─┤M├\n",
       "          └───┘     └───┘    ║  ║ └╥┘\n",
       "c: 3/════════════════════════╩══╩══╩═\n",
       "                             1  0  2 "
      ]
     },
     "execution_count": 7,
     "metadata": {},
     "output_type": "execute_result"
    }
   ],
   "source": [
    "c = creaCircuitoTelep()\n",
    "c.draw()"
   ]
  },
  {
   "cell_type": "code",
   "execution_count": 8,
   "id": "confirmed-window",
   "metadata": {},
   "outputs": [],
   "source": [
    "def creaCircuitoCodif(b1,b0):\n",
    "    circuit = QuantumCircuit(2,2)\n",
    "    \n",
    "    #entrelazar q0 y q1\n",
    "    circuit.h(0)\n",
    "    circuit.cx(0,1)\n",
    "    \n",
    "    #codificar bits clasicos en q0\n",
    "    if(b1 == 1 and b0 == 1):\n",
    "        circuit.x(0)\n",
    "        circuit.z(0)\n",
    "    elif(b1 == 1 and b0 == 0):\n",
    "        circuit.z(0)\n",
    "    elif(b1 == 0 and b1 == 1):\n",
    "        circuit.x(0)\n",
    "        \n",
    "    #decodificar bits clasicos\n",
    "    \n",
    "    circuit.cx(0,1)\n",
    "    circuit.h(0)\n",
    "    \n",
    "    #medir\n",
    "    circuit.measure([0,1],[0,1])\n",
    "    \n",
    "    return circuit"
   ]
  },
  {
   "cell_type": "code",
   "execution_count": 9,
   "id": "bibliographic-assignment",
   "metadata": {},
   "outputs": [
    {
     "data": {
      "text/html": [
       "<pre style=\"word-wrap: normal;white-space: pre;background: #fff0;line-height: 1.1;font-family: &quot;Courier New&quot;,Courier,monospace\">     ┌───┐     ┌───┐┌───┐     ┌───┐┌─┐\n",
       "q_0: ┤ H ├──■──┤ X ├┤ Z ├──■──┤ H ├┤M├\n",
       "     └───┘┌─┴─┐└───┘└───┘┌─┴─┐└┬─┬┘└╥┘\n",
       "q_1: ─────┤ X ├──────────┤ X ├─┤M├──╫─\n",
       "          └───┘          └───┘ └╥┘  ║ \n",
       "c: 2/═══════════════════════════╩═══╩═\n",
       "                                1   0 </pre>"
      ],
      "text/plain": [
       "     ┌───┐     ┌───┐┌───┐     ┌───┐┌─┐\n",
       "q_0: ┤ H ├──■──┤ X ├┤ Z ├──■──┤ H ├┤M├\n",
       "     └───┘┌─┴─┐└───┘└───┘┌─┴─┐└┬─┬┘└╥┘\n",
       "q_1: ─────┤ X ├──────────┤ X ├─┤M├──╫─\n",
       "          └───┘          └───┘ └╥┘  ║ \n",
       "c: 2/═══════════════════════════╩═══╩═\n",
       "                                1   0 "
      ]
     },
     "execution_count": 9,
     "metadata": {},
     "output_type": "execute_result"
    }
   ],
   "source": [
    "c2 = creaCircuitoCodif(1,1)\n",
    "c2.draw()"
   ]
  }
 ],
 "metadata": {
  "kernelspec": {
   "display_name": "Python 3",
   "language": "python",
   "name": "python3"
  },
  "language_info": {
   "codemirror_mode": {
    "name": "ipython",
    "version": 3
   },
   "file_extension": ".py",
   "mimetype": "text/x-python",
   "name": "python",
   "nbconvert_exporter": "python",
   "pygments_lexer": "ipython3",
   "version": "3.8.5"
  }
 },
 "nbformat": 4,
 "nbformat_minor": 5
}
