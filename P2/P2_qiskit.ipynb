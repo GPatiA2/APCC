{
 "cells": [
  {
   "cell_type": "markdown",
   "id": "metropolitan-effect",
   "metadata": {},
   "source": [
    "# Practica 2: Teleportación Cuántica y Codificación Superdensa\n",
    "\n",
    "Guillermo García Patiño Lenza\n",
    "\n",
    "### Ejercicio 3:\n",
    "\n",
    "#### Teleportación Cuántica:"
   ]
  },
  {
   "cell_type": "code",
   "execution_count": 6,
   "id": "timely-colony",
   "metadata": {},
   "outputs": [
    {
     "name": "stderr",
     "output_type": "stream",
     "text": [
      "configrc.store_credentials:WARNING:2021-03-25 12:37:18,709: Credentials already present. Set overwrite=True to overwrite.\n",
      "ibmqfactory.load_account:WARNING:2021-03-25 12:37:19,261: Credentials are already in use. The existing account in the session will be replaced.\n"
     ]
    }
   ],
   "source": [
    "import numpy as np\n",
    "from qiskit.visualization import plot_histogram\n",
    "from qiskit import (\n",
    "    QuantumCircuit,\n",
    "    execute,\n",
    "    Aer)\n",
    "from qiskit import IBMQ\n",
    "from qiskit import IBMQ\n",
    "from qiskit import assemble, transpile\n",
    "from qiskit.providers.aer.noise import NoiseModel\n",
    "from qiskit.providers.aer import QasmSimulator\n",
    "\n",
    "import math\n",
    "\n",
    "IBMQ.save_account(\"502ea4e4ac7584bf351accb55ae42a2dab5b8d895056a9ef9065cefde49d014ffd56c64eaa787acb892af1e3b81c329a5dc8a7db973da09bbc7985594e6d226a\")\n",
    "provider = IBMQ.load_account()"
   ]
  },
  {
   "cell_type": "code",
   "execution_count": 71,
   "id": "extensive-interpretation",
   "metadata": {},
   "outputs": [],
   "source": [
    "def creaCircuitoTelep(transmit):\n",
    "    circuit = QuantumCircuit(3,3)\n",
    "    \n",
    "    circuit.initialize([0,1], [0])\n",
    "    \n",
    "    #entrelazar q1 y q2\n",
    "    circuit.h(1)\n",
    "    circuit.cx(1,2)\n",
    "    \n",
    "    #codificar el estado de psi \n",
    "    circuit.cx(0,1)\n",
    "    circuit.h(0)\n",
    "    \n",
    "    #decodificar psi\n",
    "    circuit.cx(1,2)\n",
    "    circuit.cz(0,2)\n",
    "    \n",
    "    #medir\n",
    "    circuit.measure([0,1,2],[0,1,2])\n",
    "    \n",
    "    return circuit"
   ]
  },
  {
   "cell_type": "code",
   "execution_count": 72,
   "id": "minute-minority",
   "metadata": {},
   "outputs": [
    {
     "data": {
      "text/html": [
       "<pre style=\"word-wrap: normal;white-space: pre;background: #fff0;line-height: 1.1;font-family: &quot;Courier New&quot;,Courier,monospace\">     ┌─────────────────┐          ┌───┐      ┌─┐   \n",
       "q_0: ┤ initialize(0,1) ├───────■──┤ H ├─■────┤M├───\n",
       "     └──────┬───┬──────┘     ┌─┴─┐└───┘ │ ┌─┐└╥┘   \n",
       "q_1: ───────┤ H ├─────────■──┤ X ├──■───┼─┤M├─╫────\n",
       "            └───┘       ┌─┴─┐└───┘┌─┴─┐ │ └╥┘ ║ ┌─┐\n",
       "q_2: ───────────────────┤ X ├─────┤ X ├─■──╫──╫─┤M├\n",
       "                        └───┘     └───┘    ║  ║ └╥┘\n",
       "c: 3/══════════════════════════════════════╩══╩══╩═\n",
       "                                           1  0  2 </pre>"
      ],
      "text/plain": [
       "     ┌─────────────────┐          ┌───┐      ┌─┐   \n",
       "q_0: ┤ initialize(0,1) ├───────■──┤ H ├─■────┤M├───\n",
       "     └──────┬───┬──────┘     ┌─┴─┐└───┘ │ ┌─┐└╥┘   \n",
       "q_1: ───────┤ H ├─────────■──┤ X ├──■───┼─┤M├─╫────\n",
       "            └───┘       ┌─┴─┐└───┘┌─┴─┐ │ └╥┘ ║ ┌─┐\n",
       "q_2: ───────────────────┤ X ├─────┤ X ├─■──╫──╫─┤M├\n",
       "                        └───┘     └───┘    ║  ║ └╥┘\n",
       "c: 3/══════════════════════════════════════╩══╩══╩═\n",
       "                                           1  0  2 "
      ]
     },
     "execution_count": 72,
     "metadata": {},
     "output_type": "execute_result"
    }
   ],
   "source": [
    "c = creaCircuitoTelep([0,1,0,0,0,0,0,0])\n",
    "c.draw()"
   ]
  },
  {
   "cell_type": "code",
   "execution_count": 41,
   "id": "confirmed-window",
   "metadata": {},
   "outputs": [],
   "source": [
    "def creaCircuitoCodif(b1,b0):\n",
    "    circuit = QuantumCircuit(2,2)\n",
    "    \n",
    "    circuit.initialize([1,0,0,0], [0,1])\n",
    "    \n",
    "    #entrelazar q0 y q1\n",
    "    circuit.h(0)\n",
    "    circuit.cx(0,1)\n",
    "    \n",
    "    #codificar bits clasicos en q0\n",
    "    if(b1 == 1 and b0 == 1):\n",
    "        circuit.x(0)\n",
    "        circuit.z(0)\n",
    "    elif(b1 == 1 and b0 == 0):\n",
    "        circuit.z(0)\n",
    "    elif(b1 == 0 and b1 == 1):\n",
    "        circuit.x(0)\n",
    "        \n",
    "    #decodificar bits clasicos\n",
    "    \n",
    "    circuit.cx(0,1)\n",
    "    circuit.h(0)\n",
    "    \n",
    "    #medir\n",
    "    circuit.measure([0,1],[0,1])\n",
    "    \n",
    "    return circuit"
   ]
  },
  {
   "cell_type": "code",
   "execution_count": 42,
   "id": "bibliographic-assignment",
   "metadata": {},
   "outputs": [
    {
     "data": {
      "text/html": [
       "<pre style=\"word-wrap: normal;white-space: pre;background: #fff0;line-height: 1.1;font-family: &quot;Courier New&quot;,Courier,monospace\">     ┌──────────────────────┐┌───┐     ┌───┐┌───┐     ┌───┐┌─┐\n",
       "q_0: ┤0                     ├┤ H ├──■──┤ X ├┤ Z ├──■──┤ H ├┤M├\n",
       "     │  initialize(1,0,0,0) │└───┘┌─┴─┐└───┘└───┘┌─┴─┐└┬─┬┘└╥┘\n",
       "q_1: ┤1                     ├─────┤ X ├──────────┤ X ├─┤M├──╫─\n",
       "     └──────────────────────┘     └───┘          └───┘ └╥┘  ║ \n",
       "c: 2/═══════════════════════════════════════════════════╩═══╩═\n",
       "                                                        1   0 </pre>"
      ],
      "text/plain": [
       "     ┌──────────────────────┐┌───┐     ┌───┐┌───┐     ┌───┐┌─┐\n",
       "q_0: ┤0                     ├┤ H ├──■──┤ X ├┤ Z ├──■──┤ H ├┤M├\n",
       "     │  initialize(1,0,0,0) │└───┘┌─┴─┐└───┘└───┘┌─┴─┐└┬─┬┘└╥┘\n",
       "q_1: ┤1                     ├─────┤ X ├──────────┤ X ├─┤M├──╫─\n",
       "     └──────────────────────┘     └───┘          └───┘ └╥┘  ║ \n",
       "c: 2/═══════════════════════════════════════════════════╩═══╩═\n",
       "                                                        1   0 "
      ]
     },
     "execution_count": 42,
     "metadata": {},
     "output_type": "execute_result"
    }
   ],
   "source": [
    "c2 = creaCircuitoCodif(1,1)\n",
    "c2.draw()"
   ]
  },
  {
   "cell_type": "markdown",
   "id": "living-baptist",
   "metadata": {},
   "source": [
    "#### Simulaciones sin ruido:\n",
    "\n",
    "##### Teleportación:"
   ]
  },
  {
   "cell_type": "code",
   "execution_count": 75,
   "id": "worldwide-database",
   "metadata": {},
   "outputs": [
    {
     "data": {
      "image/png": "[encoded data removed]",
      "text/plain": [
       "<Figure size 504x360 with 1 Axes>"
      ]
     },
     "execution_count": 75,
     "metadata": {},
     "output_type": "execute_result"
    }
   ],
   "source": [
    "simulator = Aer.get_backend('qasm_simulator')\n",
    "job1 = execute(c,simulator, shots = 1000)\n",
    "result1 = job1.result()\n",
    "counts1 = result1.get_counts(c)\n",
    "\n",
    "plot_histogram(counts1)\n",
    "\n",
    "# me salen los bits como q2,q1,q0"
   ]
  },
  {
   "cell_type": "markdown",
   "id": "southeast-petersburg",
   "metadata": {},
   "source": [
    "##### Codificación superdensa:"
   ]
  },
  {
   "cell_type": "code",
   "execution_count": 76,
   "id": "knowing-citizenship",
   "metadata": {},
   "outputs": [
    {
     "data": {
      "image/png": "[encoded data removed]",
      "text/plain": [
       "<Figure size 504x360 with 1 Axes>"
      ]
     },
     "execution_count": 76,
     "metadata": {},
     "output_type": "execute_result"
    }
   ],
   "source": [
    "simulator = Aer.get_backend('qasm_simulator')\n",
    "job2 = execute(c2,simulator, shots = 1000)\n",
    "result2 = job2.result()\n",
    "counts2 = result2.get_counts(c2)\n",
    "\n",
    "plot_histogram(counts2)"
   ]
  },
  {
   "cell_type": "markdown",
   "id": "fixed-plaintiff",
   "metadata": {},
   "source": [
    "#### Simulaciones con ruido\n",
    "\n",
    "##### Teleportación:"
   ]
  },
  {
   "cell_type": "code",
   "execution_count": 82,
   "id": "suspected-london",
   "metadata": {},
   "outputs": [],
   "source": [
    "backend2 = provider.get_backend('ibmq_athens')\n",
    "noise_model = NoiseModel.from_backend(backend2)\n",
    "coupling_map = backend2.configuration().coupling_map\n",
    "basis_gates = noise_model.basis_gates"
   ]
  },
  {
   "cell_type": "code",
   "execution_count": 85,
   "id": "advised-symposium",
   "metadata": {},
   "outputs": [
    {
     "data": {
      "image/png": "[encoded data removed]",
      "text/plain": [
       "<Figure size 504x360 with 1 Axes>"
      ]
     },
     "execution_count": 85,
     "metadata": {},
     "output_type": "execute_result"
    }
   ],
   "source": [
    "job3 = execute(c, simulator, coupling_map = coupling_map, basis_gates = basis_gates, noise_model = noise_model)\n",
    "result3 = job3.result()\n",
    "counts3 = result3.get_counts(c)\n",
    "\n",
    "plot_histogram(counts3)"
   ]
  },
  {
   "cell_type": "markdown",
   "id": "commercial-madonna",
   "metadata": {},
   "source": [
    "##### Codificación Superdensa"
   ]
  },
  {
   "cell_type": "code",
   "execution_count": 87,
   "id": "otherwise-audience",
   "metadata": {},
   "outputs": [
    {
     "data": {
      "image/png": "[encoded data removed]",
      "text/plain": [
       "<Figure size 504x360 with 1 Axes>"
      ]
     },
     "execution_count": 87,
     "metadata": {},
     "output_type": "execute_result"
    }
   ],
   "source": [
    "job4 = execute(c2, simulator, coupling_map = coupling_map, basis_gates = basis_gates, noise_model = noise_model)\n",
    "result4 = job4.result()\n",
    "counts4 = result4.get_counts(c2)\n",
    "\n",
    "plot_histogram(counts4)"
   ]
  },
  {
   "cell_type": "code",
   "execution_count": 88,
   "id": "korean-pursuit",
   "metadata": {},
   "outputs": [
    {
     "data": {
      "text/plain": [
       "[<IBMQSimulator('ibmq_qasm_simulator') from IBMQ(hub='ibm-q', group='open', project='main')>,\n",
       " <IBMQBackend('ibmqx2') from IBMQ(hub='ibm-q', group='open', project='main')>,\n",
       " <IBMQBackend('ibmq_16_melbourne') from IBMQ(hub='ibm-q', group='open', project='main')>,\n",
       " <IBMQBackend('ibmq_armonk') from IBMQ(hub='ibm-q', group='open', project='main')>,\n",
       " <IBMQBackend('ibmq_athens') from IBMQ(hub='ibm-q', group='open', project='main')>,\n",
       " <IBMQBackend('ibmq_santiago') from IBMQ(hub='ibm-q', group='open', project='main')>,\n",
       " <IBMQBackend('ibmq_lima') from IBMQ(hub='ibm-q', group='open', project='main')>,\n",
       " <IBMQBackend('ibmq_belem') from IBMQ(hub='ibm-q', group='open', project='main')>,\n",
       " <IBMQBackend('ibmq_quito') from IBMQ(hub='ibm-q', group='open', project='main')>,\n",
       " <IBMQSimulator('simulator_statevector') from IBMQ(hub='ibm-q', group='open', project='main')>,\n",
       " <IBMQSimulator('simulator_mps') from IBMQ(hub='ibm-q', group='open', project='main')>,\n",
       " <IBMQSimulator('simulator_extended_stabilizer') from IBMQ(hub='ibm-q', group='open', project='main')>,\n",
       " <IBMQSimulator('simulator_stabilizer') from IBMQ(hub='ibm-q', group='open', project='main')>]"
      ]
     },
     "execution_count": 88,
     "metadata": {},
     "output_type": "execute_result"
    }
   ],
   "source": [
    "provider.backends()"
   ]
  },
  {
   "cell_type": "markdown",
   "id": "automated-sentence",
   "metadata": {},
   "source": [
    "#### Ejecuciones en backends reales:\n",
    "\n"
   ]
  },
  {
   "cell_type": "markdown",
   "id": "younger-ordering",
   "metadata": {},
   "source": [
    "##### Teleportación:"
   ]
  },
  {
   "cell_type": "code",
   "execution_count": 91,
   "id": "necessary-recording",
   "metadata": {},
   "outputs": [],
   "source": [
    "backend3 = provider.backends.ibmq_lima\n",
    "qobj_t = assemble(transpile(c, backend = backend3), backend = backend3)\n",
    "job5 = backend3.run(qobj_t)"
   ]
  },
  {
   "cell_type": "code",
   "execution_count": null,
   "id": "emotional-campaign",
   "metadata": {},
   "outputs": [],
   "source": [
    "retrieved_job = backend3.retrieve_job(job5.job_id())\n",
    "res5 = retrieved_job.result()\n",
    "counts5 = res5.get_counts()\n",
    "print(counts5)\n",
    "plot_histogram(counts5)"
   ]
  },
  {
   "cell_type": "markdown",
   "id": "warming-spokesman",
   "metadata": {},
   "source": [
    "##### Codificación Superdensa:"
   ]
  },
  {
   "cell_type": "code",
   "execution_count": null,
   "id": "exact-diesel",
   "metadata": {},
   "outputs": [],
   "source": [
    "backend3 = provider.backends.ibmq_lima\n",
    "qobj_c = assemble(transpile(c2, backend = backend3), backend = backend3)\n",
    "job6 = backend3.run(qobj_c)"
   ]
  },
  {
   "cell_type": "code",
   "execution_count": null,
   "id": "retired-pakistan",
   "metadata": {},
   "outputs": [],
   "source": [
    "retrieved_job2 = backend3.retrieve_job(job6.job_id())\n",
    "res6 = retrieved_job2.result()\n",
    "counts6 = res6.get_counts()\n",
    "print(counts6)\n",
    "plot_histogram(counts6)"
   ]
  }
 ],
 "metadata": {
  "kernelspec": {
   "display_name": "Python 3",
   "language": "python",
   "name": "python3"
  },
  "language_info": {
   "codemirror_mode": {
    "name": "ipython",
    "version": 3
   },
   "file_extension": ".py",
   "mimetype": "text/x-python",
   "name": "python",
   "nbconvert_exporter": "python",
   "pygments_lexer": "ipython3",
   "version": "3.8.5"
  }
 },
 "nbformat": 4,
 "nbformat_minor": 5
}
